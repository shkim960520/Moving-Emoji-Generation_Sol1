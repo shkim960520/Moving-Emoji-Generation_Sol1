{
 "cells": [
  {
   "cell_type": "markdown",
   "metadata": {},
   "source": [
    "# warp"
   ]
  },
  {
   "cell_type": "code",
   "execution_count": null,
   "metadata": {},
   "outputs": [],
   "source": [
    "from skimage.transform import PiecewiseAffineTransform, warp\n",
    "from scipy.interpolate import Rbf\n",
    "# rbf코드 참고 : https://relate.cs.illinois.edu/course/cs357-f15/file-version/03473f64afb954c74c02e8988f518de3eddf49a4/media/interp/2D%20interpolation%20with%20RBF.html\n",
    "class PointsRBF: # N 차원 분산 데이터에서 M 차원 영역으로\n",
    "    def __init__(self, src, dst):\n",
    "        xsrc = src[:,0]\n",
    "        ysrc = src[:,1]\n",
    "        xdst = dst[:,0]\n",
    "        ydst = dst[:,1]\n",
    "        self.rbf_x = Rbf( xsrc, ysrc, xdst) #ND 분산 데이터에서 MD 도메인으로 함수의 방사형 기저 함수 보간을위한 클래스\n",
    "        self.rbf_y = Rbf( xsrc, ysrc, ydst)\n",
    "\n",
    "    def __call__(self, xy):\n",
    "        x = xy[:,0]\n",
    "        y = xy[:,1]\n",
    "        xdst = self.rbf_x(x,y)\n",
    "        ydst = self.rbf_y(x,y)\n",
    "        return np.transpose( [xdst,ydst] )\n",
    "    \n",
    "    \n",
    "def warpRBF(image, src, dst): # warp : 주어진 좌표변환에 따라 이미지 왜곡\n",
    "    prbf = PointsRBF(dst, src)\n",
    "    warped = warp(image, prbf) \n",
    "    #warp(image, inverse_map) -> 출력 이미지의 좌표를 입력 이미지의 해당 좌표로 변환하는 역 좌표 맵 -> 이걸 PointsRBF로 구현\n",
    "    warped = 255*warped                         # 0..1 => 0..255\n",
    "    warped = warped.astype(np.uint8)            # convert from float64 to uint8\n",
    "    return warped"
   ]
  },
  {
   "cell_type": "code",
   "execution_count": null,
   "metadata": {},
   "outputs": [],
   "source": [
    "### from and to coordintes\n",
    "coords_from_A = self.df_A_test.loc[files_A].to_numpy().reshape(20,2) #df_A_test는 원본이미지의 랜드마크 좌표들\n",
    "coords_to_A = fake_B_recon.reshape(20,2)\n",
    "coords_from_B = self.df_B_test.loc[files_B].to_numpy().reshape(20,2) \n",
    "coords_to_B = fake_A_recon.reshape(20,2)\n",
    "\n",
    "# cocatenate boundary points  \n",
    "coords_from_A = add_boundary_coords(coords_from_A) # 사진모서리들 경계좌표 추가\n",
    "coords_to_A = add_boundary_coords(coords_to_A)\n",
    "coords_from_B = add_boundary_coords(coords_from_B)\n",
    "coords_to_B = add_boundary_coords(coords_to_B)\n",
    "\n",
    "### load and warp image\n",
    "fake_image_A = warpRBF(image_A, coords_from_A, coords_to_A) #(원본이미지, 원본이미지 랜드마크좌표, 냐가 바꾸고싶은 랜드마크 좌표)\n",
    "fake_image_B = warpRBF(image_B, coords_from_B, coords_to_B)"
   ]
  }
 ],
 "metadata": {
  "kernelspec": {
   "display_name": "Python 3",
   "language": "python",
   "name": "python3"
  },
  "language_info": {
   "codemirror_mode": {
    "name": "ipython",
    "version": 3
   },
   "file_extension": ".py",
   "mimetype": "text/x-python",
   "name": "python",
   "nbconvert_exporter": "python",
   "pygments_lexer": "ipython3",
   "version": "3.8.3"
  }
 },
 "nbformat": 4,
 "nbformat_minor": 4
}
