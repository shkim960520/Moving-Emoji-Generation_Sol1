{
  "nbformat": 4,
  "nbformat_minor": 0,
  "metadata": {
    "kernelspec": {
      "display_name": "Python 3",
      "language": "python",
      "name": "python3"
    },
    "language_info": {
      "codemirror_mode": {
        "name": "ipython",
        "version": 3
      },
      "file_extension": ".py",
      "mimetype": "text/x-python",
      "name": "python",
      "nbconvert_exporter": "python",
      "pygments_lexer": "ipython3",
      "version": "3.7.7"
    },
    "colab": {
      "name": "landmark_detector_image.ipynb",
      "provenance": [],
      "collapsed_sections": []
    }
  },
  "cells": [
    {
      "cell_type": "code",
      "metadata": {
        "scrolled": false,
        "id": "iBIFYLJdeZ32"
      },
      "source": [
        "import cv2\n",
        "import urllib.request as urlreq\n",
        "import os\n",
        "import matplotlib.pyplot as plt # used to plot our images\n",
        "from pylab import rcParams # used to change image size\n",
        "\n",
        "# 이미지 데이터가 있는 폴더 경로\n",
        "# 끝에 꼭 \"/\" 이거 붙여주세여!!!!\n",
        "path = 'C:/Users/82104/Desktop/tobigs/tobigs_14/컨퍼런스/opencv/image/'\n",
        "image_list = os.listdir(path)\n",
        "if len(image_list)==0:\n",
        "    assert False, \"해당 경로에 이미지가 없습니다.\"\n",
        "\n",
        "if not os.path.exists('landmark'): # 결과가 저장될 폴더\n",
        "    os.makedirs('landmark')\n",
        "\n",
        "# 랜드마크 생성하기 위해 먼저 face detection\n",
        "# 아래는 디텍션을 위한 파일들을 불러오는 과정..? 아마\n",
        "# save face detection algorithm's url in haarcascade_url variable\n",
        "haarcascade_url = \"https://raw.githubusercontent.com/opencv/opencv/master/data/haarcascades/haarcascade_frontalface_alt2.xml\"\n",
        "\n",
        "# save face detection algorithm's name as haarcascade\n",
        "haarcascade = \"haarcascade_frontalface_alt2.xml\"\n",
        "\n",
        "# chech if file is in working directory\n",
        "if (haarcascade in os.listdir(os.curdir)):\n",
        "    print(\"File exists\")\n",
        "else:\n",
        "    # download file from url and save locally as haarcascade_frontalface_alt2.xml, < 1MB\n",
        "    urlreq.urlretrieve(haarcascade_url, haarcascade)\n",
        "    print(\"File downloaded\")\n",
        "\n",
        "# create an instance of the Face Detection Cascade Classifier\n",
        "detector = cv2.CascadeClassifier(haarcascade)\n",
        "\n",
        "# face 모듈은 open cv 확장이라서 추가 패키지 설치 필요 \n",
        "# !pip install opencv-contrib-python\n",
        "# save facial landmark detection model's url in LBFmodel_url variable\n",
        "LBFmodel_url = \"https://github.com/kurnianggoro/GSOC2017/raw/master/data/lbfmodel.yaml\"\n",
        "\n",
        "# save facial landmark detection model's name as LBFmodel\n",
        "LBFmodel = \"lbfmodel.yaml\"\n",
        "\n",
        "# check if file is in working directory\n",
        "if (LBFmodel in os.listdir(os.curdir)):\n",
        "    print(\"File exists\")\n",
        "else:\n",
        "    # download picture from url and save locally as lbfmodel.yaml, < 54MB\n",
        "    urlreq.urlretrieve(LBFmodel_url, LBFmodel)\n",
        "    print(\"File downloaded\")"
      ],
      "execution_count": null,
      "outputs": []
    },
    {
      "cell_type": "code",
      "metadata": {
        "id": "81qxrDnFeZ4S"
      },
      "source": [
        "# create an instance of the Facial landmark Detector with the model\n",
        "landmark_detector  = cv2.face.createFacemarkLBF()\n",
        "landmark_detector.loadModel(LBFmodel)"
      ],
      "execution_count": null,
      "outputs": []
    },
    {
      "cell_type": "code",
      "metadata": {
        "scrolled": true,
        "id": "XCnt3N15eZ4U"
      },
      "source": [
        "for image_name in image_list:\n",
        "    image_path = path+image_name\n",
        "    temp = image_name.split('.') # for 이미지 저장 이름\n",
        "    image_save_name = \"./landmark/\" + temp[0] + \"_landmark\" + \".\" + temp[-1]\n",
        "    image = cv2.imread(image_path)\n",
        "\n",
        "    # 얼굴 디텍트\n ",
        "    faces = detector.detectMultiScale(image)\n",
        "\n",
        "    for face in faces:\n",
        "    #     save the coordinates in x, y, w, d variables\n",
        "        (x,y,w,d) = face\n",
        "        # Draw a white coloured rectangle around each face using the face's coordinates\n",
        "        # on the \"image_template\" with the thickness of 2 \n",
        "        cv2.rectangle(image,(x,y),(x+w, y+d),(255, 255, 255), 2)\n",
        "\n",
        "    # 디텍팅 기반으로 랜드마크 찾기\n",
        "    # Detect landmarks on \"image_gray\"\n",
        "    \n",
        "    _, landmarks = landmark_detector.fit(image, faces)\n",
        "    for landmark in landmarks:\n",
        "        for x,y in landmark[0]:\n",
        "            # display landmarks on \"image_cropped\"\n",
        "            # with white colour in BGR and thickness 1\n",
        "            cv2.circle(image, (x, y), 1, (255, 255, 255), 3)\n",
        "    plt.axis(\"off\")\n",
        "    plt.imshow(image)\n",
        "    plt.savefig(image_save_name)\n",
        "    print(image_name + \"저장 성공!\")"
      ],
      "execution_count": null,
      "outputs": []
    }
  ]
}
