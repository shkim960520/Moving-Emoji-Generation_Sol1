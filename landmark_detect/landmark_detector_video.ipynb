{
  "nbformat": 4,
  "nbformat_minor": 0,
  "metadata": {
    "kernelspec": {
      "display_name": "Python 3",
      "language": "python",
      "name": "python3"
    },
    "language_info": {
      "codemirror_mode": {
        "name": "ipython",
        "version": 3
      },
      "file_extension": ".py",
      "mimetype": "text/x-python",
      "name": "python",
      "nbconvert_exporter": "python",
      "pygments_lexer": "ipython3",
      "version": "3.7.7"
    },
    "colab": {
      "name": "landmark_detector_video.ipynb",
      "provenance": [],
      "collapsed_sections": []
    }
  },
  "cells": [
    {
      "cell_type": "code",
      "metadata": {
        "id": "uaAV7JQ7eamC"
      },
      "source": [
        "import cv2, dlib, sys\n",
        "import os\n",
        "import numpy as np\n",
        "\n",
        "scaler = 0.3\n",
        "\n",
        "def find_video_landmark(video_path):\n",
        "    # video_path: 예시 ./video/KakaoTalk_Video_2020-11-14-15-08-55.mp4\n",
        "    # load video\n",
        "    cap = cv2.VideoCapture(video_path)\n",
        "\n",
        "    while True:\n",
        "        ret, img = cap.read()\n",
        "\n",
        "        if not ret:\n",
        "            break\n",
        "\n",
        "        img = cv2.resize(img, (int(img.shape[1] * scaler), int(img.shape[0] * scaler)))\n",
        "        ori = img.copy()\n",
        "\n",
        "        # 모델에 Img 넣어주기 (얼굴 디텍팅)\n",
        "        faces = detector(img)\n",
        "        try:\n",
        "            face = faces[0] # 얼굴 여러개 방지\n",
        "    \n",
        "            # 랜드마크 찾기\n ",
        "            dlib_shape = predictor(img, face)\n",
        "            shape_2d = np.array([[p.x, p.y] for p in dlib_shape.parts()])\n",
        "\n",
        "            # visualize 필수 x\n",
        "            # od box 그리기\n",
        "            #img = cv2.rectangle(img, pt1=(face.left(), face.top()), pt2=(face.right(), face.bottom()), color=(255,255,255), thickness=2, lineTpye=cv2.LINE_AA)\n",
        "\n",
        "\n",
        "            for s in shape_2d: # 랜드마크 점 개수 68개\n",
        "                cv2.circle(img, center=tuple(s), radius=1, color=(255,255,255), thickness=2)\n",
        "        except:\n",
        "            pass\n",
        "        cv2.imshow('img', img)\n",
        "        cv2.waitKey(1)\n",
        "\n",
        "\n",
        "\n",
        "\n",
        "# initialize face detector and shape predictor\n",
        "detector = dlib.get_frontal_face_detector()\n",
        "predictor = dlib.shape_predictor('shape_predictor_68_face_landmarks.dat')\n",
        "\n",
        "\n",
        "cur_path=\"./video/\"\n",
        "video_list = os.listdir(cur_path)\n",
        "\n",
        "for i in video_list:\n",
        "    if i == \".DS_Store\":\n",
        "        continue\n",
        "    \n",
        "    video_path = cur_path+i\n",
        "    print(video_path)\n",
        "    find_video_landmark(video_path)"
      ],
      "execution_count": null,
      "outputs": []
    }
  ]
}
